{
 "cells": [
  {
   "cell_type": "code",
   "execution_count": 27,
   "metadata": {},
   "outputs": [],
   "source": [
    "import torch.nn as nn\n",
    "from torchvision import models\n",
    "\n",
    "class CNN(nn.Module):\n",
    "    def __init__(self, size, num_classes):\n",
    "        super(CNN, self).__init__()\n",
    "\n",
    "        # ### convolutional feature extraction\n",
    "        # self.extract = nn.Sequential(\n",
    "        #     nn.Conv2d (in_channels = size, out_channels = 32, kernel_size = 3),\n",
    "        #     nn.ReLU(inplace = True),\n",
    "        #     nn.Conv2d (in_channels = 32, out_channels = 32, kernel_size = 3),\n",
    "        #     nn.ReLU(inplace = True),\n",
    "        #     nn.Conv2d(in_channels = 32, out_channels = 64, kernel_size = 5, stride = 2, padding = 2),\n",
    "        #     nn.ReLU(inplace = True),\n",
    "        #     # nn.MaxPool2d(2),\n",
    "        #     nn.Dropout(0.4),\n",
    "\n",
    "        #     nn.Conv2d (in_channels = 64, out_channels = 64, kernel_size = 3),\n",
    "        #     nn.ReLU(inplace = True),\n",
    "        #     nn.Conv2d (in_channels = 64, out_channels = 64, kernel_size = 3),\n",
    "        #     nn.ReLU(inplace = True),\n",
    "        #     nn.Conv2d(in_channels = 64, out_channels = 64, kernel_size = 5, stride = 2, padding = 2),\n",
    "        #     nn.ReLU(inplace = True),\n",
    "        #     # nn.MaxPool2d(2),\n",
    "        #     nn.Dropout(0.4)\n",
    "        # )\n",
    "        # ### MLP classifier\n",
    "        # self.decimate = nn.Sequential( \n",
    "        #     nn.Linear(64 * 4 * 4, 128),\n",
    "        #     nn.ReLU(inplace = True),\n",
    "        #     nn.Dropout(0.4),\n",
    "        #     nn.Linear(128, num_classes)\n",
    "        # )\n",
    "\n",
    "        ### convolutional feature extraction\n",
    "        self.extract = nn.Sequential(\n",
    "            ### first later\n",
    "            nn.Conv2d (in_channels = size, out_channels = 32, kernel_size = 5, stride = 1, padding = 2),\n",
    "            ### first layer non-linearity\n",
    "            nn.ReLU(inplace = True),\n",
    "            ### pool layer\n",
    "            nn.MaxPool2d(2),\n",
    "            nn.Dropout(0),\n",
    "            ### second layer\n",
    "            nn.Conv2d(in_channels = 32, out_channels = 64, kernel_size = 5, stride = 1, padding = 2),\n",
    "            ### nonlinearity\n",
    "            nn.ReLU(inplace = True),\n",
    "            nn.MaxPool2d(2),\n",
    "            nn.Dropout(0)\n",
    "        )\n",
    "        ### MLP classifier\n",
    "        self.decimate = nn.Sequential( \n",
    "            nn.Linear(64 * 7 * 7, 256),\n",
    "            nn.ReLU(inplace = True),\n",
    "            nn.Dropout(0),\n",
    "            nn.Linear(256, num_classes)\n",
    "        )\n",
    "\n",
    "        # 6-layer 784-50-100-500-1000-10-10\n",
    "        # ### convolutional feature extraction\n",
    "        # self.extract = nn.Sequential(\n",
    "        #     nn.Conv2d (in_channels = size, out_channels = 50, kernel_size = 3, stride = 1, padding = 1),\n",
    "        #     nn.ReLU(inplace = True),\n",
    "        #     nn.MaxPool2d(2),\n",
    "        #     nn.Dropout(0.1),\n",
    "        #     nn.Conv2d(in_channels = 50, out_channels = 100, kernel_size = 3, stride = 1, padding = 1),\n",
    "        #     nn.ReLU(inplace = True),\n",
    "            \n",
    "        #     nn.Conv2d(in_channels = 100, out_channels = 500, kernel_size = 3, stride = 1, padding = 1),\n",
    "        #     nn.ReLU(inplace = True),\n",
    "        #     nn.Conv2d(in_channels = 500, out_channels = 1000, kernel_size = 3, stride = 1, padding = 1),\n",
    "        #     nn.ReLU(inplace = True),\n",
    "        #     nn.Conv2d(in_channels = 1000, out_channels = 10, kernel_size = 3, stride = 1, padding = 1),\n",
    "        #     nn.ReLU(inplace = True),\n",
    "        #     nn.Conv2d(in_channels = 10, out_channels = 10, kernel_size = 3, stride = 1, padding = 1),\n",
    "        #     nn.ReLU(inplace = True)\n",
    "        # )\n",
    "\n",
    "    ### forward pass\n",
    "    def forward(self, x):\n",
    "            ### convolutional laters\n",
    "            features = self.extract(x)\n",
    "            ### turn matrix into 1D array\n",
    "            features = features.view(features.size()[0], -1)\n",
    "            ### run MLP\n",
    "            myresult = self.decimate(features)\n",
    "            return myresult\n",
    "\n",
    "        "
   ]
  },
  {
   "cell_type": "code",
   "execution_count": 28,
   "metadata": {},
   "outputs": [],
   "source": [
    "import os\n",
    "import torch\n",
    "import numpy as np\n",
    "from torchvision import datasets\n",
    "import torchvision\n",
    "\n",
    "# nice built in functions for common data sets \n",
    "#  go read https://pytorch.org/docs/stable/torchvision/datasets.html\n",
    "train = datasets.MNIST( root = './', # where to download data set to\n",
    "                       train = True, # If True, creates dataset from training.pt, otherwise from test.pt\n",
    "                       transform=torchvision.transforms.Compose([\n",
    "                               torchvision.transforms.ToTensor()]), # convert data into tensor vs PIL image \n",
    "                       download = True)"
   ]
  },
  {
   "cell_type": "code",
   "execution_count": 29,
   "metadata": {},
   "outputs": [
    {
     "name": "stdout",
     "output_type": "stream",
     "text": [
      "[num of images, image x size, image y size]\n",
      "torch.Size([60000, 28, 28])\n",
      "what type of data is it?\n",
      "<class 'torch.Tensor'>\n",
      "what is min and max values?\n",
      "tensor(255, dtype=torch.uint8)\n",
      "tensor(0, dtype=torch.uint8)\n"
     ]
    },
    {
     "data": {
      "text/plain": [
       "<matplotlib.image.AxesImage at 0x7f2eb93a4950>"
      ]
     },
     "execution_count": 29,
     "metadata": {},
     "output_type": "execute_result"
    },
    {
     "data": {
      "image/png": "[encoded data removed]",
      "text/plain": [
       "<Figure size 640x480 with 1 Axes>"
      ]
     },
     "metadata": {},
     "output_type": "display_data"
    }
   ],
   "source": [
    "print(\"[num of images, image x size, image y size]\")\n",
    "print(train.data.shape)\n",
    "\n",
    "print(\"what type of data is it?\")\n",
    "print(type(train.data[0]))\n",
    "\n",
    "print(\"what is min and max values?\")\n",
    "print(torch.max(train.data[0]))\n",
    "print(torch.min(train.data[0]))\n",
    "\n",
    "# lets plot it\n",
    "import matplotlib.pyplot as plt\n",
    "import random\n",
    "plt.imshow(train.data[random.randint(0,59999)])"
   ]
  },
  {
   "cell_type": "markdown",
   "metadata": {},
   "source": [
    "### Data Loader     "
   ]
  },
  {
   "cell_type": "code",
   "execution_count": 30,
   "metadata": {},
   "outputs": [],
   "source": [
    "import torch.utils.data as tech\n",
    "\n",
    "batch_size = 4\n",
    "\n",
    "train_ld = tech.DataLoader(dataset=train, shuffle=True, batch_size = batch_size)"
   ]
  },
  {
   "cell_type": "code",
   "execution_count": 31,
   "metadata": {},
   "outputs": [],
   "source": [
    "input_size = 1\n",
    "num_classes = 10\n",
    "model = CNN(input_size, num_classes)\n",
    "\n",
    "learning_rate = 0.001\n",
    "optimizer = torch.optim.Adam(model.parameters(), lr = learning_rate)\n",
    "costfx = torch.nn.CrossEntropyLoss()"
   ]
  },
  {
   "cell_type": "code",
   "execution_count": 32,
   "metadata": {},
   "outputs": [
    {
     "name": "stderr",
     "output_type": "stream",
     "text": [
      "/tmp/ipykernel_944/1326243968.py:9: TqdmDeprecationWarning: This function will be removed in tqdm==5.0.0\n",
      "Please use `tqdm.notebook.tqdm` instead of `tqdm.tqdm_notebook`\n",
      "  for batch_id, train_params in enumerate(tqdm(train_ld)):\n"
     ]
    },
    {
     "data": {
      "application/vnd.jupyter.widget-view+json": {
       "model_id": "5a9964a2029945b1a2e6fafca0dee7fe",
       "version_major": 2,
       "version_minor": 0
      },
      "text/plain": [
       "  0%|          | 0/15000 [00:00<?, ?it/s]"
      ]
     },
     "metadata": {},
     "output_type": "display_data"
    },
    {
     "data": {
      "application/vnd.jupyter.widget-view+json": {
       "model_id": "a1938d0df98e44aeb3f558fc5d6fe496",
       "version_major": 2,
       "version_minor": 0
      },
      "text/plain": [
       "  0%|          | 0/15000 [00:00<?, ?it/s]"
      ]
     },
     "metadata": {},
     "output_type": "display_data"
    },
    {
     "data": {
      "application/vnd.jupyter.widget-view+json": {
       "model_id": "a0245d02c115455b9e79c0def2b974a9",
       "version_major": 2,
       "version_minor": 0
      },
      "text/plain": [
       "  0%|          | 0/15000 [00:00<?, ?it/s]"
      ]
     },
     "metadata": {},
     "output_type": "display_data"
    },
    {
     "data": {
      "application/vnd.jupyter.widget-view+json": {
       "model_id": "586c0d9be2894eeba7a2229b0bf8c497",
       "version_major": 2,
       "version_minor": 0
      },
      "text/plain": [
       "  0%|          | 0/15000 [00:00<?, ?it/s]"
      ]
     },
     "metadata": {},
     "output_type": "display_data"
    },
    {
     "data": {
      "application/vnd.jupyter.widget-view+json": {
       "model_id": "8465ebbb9bff449b887b8d52d1b68a07",
       "version_major": 2,
       "version_minor": 0
      },
      "text/plain": [
       "  0%|          | 0/15000 [00:00<?, ?it/s]"
      ]
     },
     "metadata": {},
     "output_type": "display_data"
    },
    {
     "data": {
      "application/vnd.jupyter.widget-view+json": {
       "model_id": "d002f6020fbe4215ba2e14fc24094c02",
       "version_major": 2,
       "version_minor": 0
      },
      "text/plain": [
       "  0%|          | 0/15000 [00:00<?, ?it/s]"
      ]
     },
     "metadata": {},
     "output_type": "display_data"
    },
    {
     "data": {
      "application/vnd.jupyter.widget-view+json": {
       "model_id": "0c2614cef945471088f3e5c8120ded3f",
       "version_major": 2,
       "version_minor": 0
      },
      "text/plain": [
       "  0%|          | 0/15000 [00:00<?, ?it/s]"
      ]
     },
     "metadata": {},
     "output_type": "display_data"
    },
    {
     "data": {
      "application/vnd.jupyter.widget-view+json": {
       "model_id": "4dfda97fa07848c4bd4f8600789faacb",
       "version_major": 2,
       "version_minor": 0
      },
      "text/plain": [
       "  0%|          | 0/15000 [00:00<?, ?it/s]"
      ]
     },
     "metadata": {},
     "output_type": "display_data"
    },
    {
     "data": {
      "application/vnd.jupyter.widget-view+json": {
       "model_id": "8b4fba2633944d6b9b1ee1c0a37c7b29",
       "version_major": 2,
       "version_minor": 0
      },
      "text/plain": [
       "  0%|          | 0/15000 [00:00<?, ?it/s]"
      ]
     },
     "metadata": {},
     "output_type": "display_data"
    },
    {
     "data": {
      "application/vnd.jupyter.widget-view+json": {
       "model_id": "68f9e6c7c2d04cafabb9fcaa83132394",
       "version_major": 2,
       "version_minor": 0
      },
      "text/plain": [
       "  0%|          | 0/15000 [00:00<?, ?it/s]"
      ]
     },
     "metadata": {},
     "output_type": "display_data"
    }
   ],
   "source": [
    "# Run it!\n",
    "\n",
    "from tqdm import tqdm_notebook as tqdm\n",
    "\n",
    "num_epochs = 10\n",
    "for epoch in range(num_epochs):\n",
    "    epoch_loss = []\n",
    "\n",
    "    for batch_id, train_params in enumerate(tqdm(train_ld)):\n",
    "        samples, labels = train_params\n",
    "\n",
    "        samples = samples.type('torch.FloatTensor')\n",
    "        labels = labels.type('torch.LongTensor')\n",
    "\n",
    "        # forward pass\n",
    "        prediction = model(samples)\n",
    "        # find error\n",
    "        loss = costfx(prediction, labels)\n",
    "        # record loss\n",
    "        epoch_loss.append(loss.item())\n",
    "        # zero gradients\n",
    "        optimizer.zero_grad()\n",
    "        # back prop\n",
    "        loss.backward()\n",
    "        # update everything\n",
    "        optimizer.step()\n",
    "    \n",
    "    epoch_loss = sum(epoch_loss)/len(epoch_loss)\n",
    "\n",
    "torch.save(model, './my_mnist_model.pt')\n",
    "model = model.eval()\n"
   ]
  },
  {
   "cell_type": "markdown",
   "metadata": {},
   "source": [
    "### Run Test Data"
   ]
  },
  {
   "cell_type": "code",
   "execution_count": 33,
   "metadata": {},
   "outputs": [
    {
     "name": "stderr",
     "output_type": "stream",
     "text": [
      "/tmp/ipykernel_944/2974614743.py:7: TqdmDeprecationWarning: This function will be removed in tqdm==5.0.0\n",
      "Please use `tqdm.notebook.tqdm` instead of `tqdm.tqdm_notebook`\n",
      "  for sample, label in tqdm(test2):\n"
     ]
    },
    {
     "data": {
      "application/vnd.jupyter.widget-view+json": {
       "model_id": "acd6c5f1e6194c28a4305946ad8db67b",
       "version_major": 2,
       "version_minor": 0
      },
      "text/plain": [
       "  0%|          | 0/10000 [00:00<?, ?it/s]"
      ]
     },
     "metadata": {},
     "output_type": "display_data"
    },
    {
     "name": "stderr",
     "output_type": "stream",
     "text": [
      "/tmp/ipykernel_944/2974614743.py:8: DeprecationWarning: Conversion of an array with ndim > 0 to a scalar is deprecated, and will error in future. Ensure you extract a single element from your array before performing this operation. (Deprecated NumPy 1.25.)\n",
      "  label = int(label.numpy())\n"
     ]
    },
    {
     "data": {
      "image/png": "[encoded data removed]",
      "text/plain": [
       "<Figure size 1000x700 with 2 Axes>"
      ]
     },
     "metadata": {},
     "output_type": "display_data"
    },
    {
     "name": "stdout",
     "output_type": "stream",
     "text": [
      "0.9887\n"
     ]
    }
   ],
   "source": [
    "test = datasets.MNIST( root = './', train = False, transform = torchvision.transforms.Compose([torchvision.transforms.ToTensor()]), download = True)\n",
    "test2 = tech.DataLoader(dataset = test, shuffle = False, batch_size = 1)\n",
    "\n",
    "ConfusionMatrix = torch.zeros((10,10))\n",
    "correct = 0\n",
    "\n",
    "for sample, label in tqdm(test2):\n",
    "    label = int(label.numpy())\n",
    "    sample = sample.type('torch.FloatTensor')\n",
    "    # forward pass\n",
    "    prediction = model(sample)\n",
    "    # make a classification decision\n",
    "    prediction = int(torch.argmax(prediction).numpy())\n",
    "    ConfusionMatrix[label,prediction] = ConfusionMatrix[label,prediction] + 1\n",
    "    if label == prediction:\n",
    "        correct += 1\n",
    "\n",
    "import seaborn as sn  # yes, I had to \"conda install seaborn\"\n",
    "import pandas as pd\n",
    "import matplotlib.pyplot as plt\n",
    "\n",
    "df_cm = pd.DataFrame(np.asarray(ConfusionMatrix), index = [i for i in \"0123456789\"],\n",
    "                     columns = [i for i in \"0123456789\"])\n",
    "plt.figure(figsize = (10,7))\n",
    "sn.heatmap(df_cm, annot=True)\n",
    "plt.show()\n",
    "\n",
    "rate = correct / len(test2.dataset)\n",
    "print(rate)\n",
    "\n"
   ]
  }
 ],
 "metadata": {
  "kernelspec": {
   "display_name": "ci",
   "language": "python",
   "name": "python3"
  },
  "language_info": {
   "codemirror_mode": {
    "name": "ipython",
    "version": 3
   },
   "file_extension": ".py",
   "mimetype": "text/x-python",
   "name": "python",
   "nbconvert_exporter": "python",
   "pygments_lexer": "ipython3",
   "version": "3.11.4"
  }
 },
 "nbformat": 4,
 "nbformat_minor": 2
}
